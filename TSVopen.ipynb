{
 "cells": [
  {
   "cell_type": "code",
   "execution_count": 58,
   "metadata": {
    "collapsed": true
   },
   "outputs": [],
   "source": [
    "import pandas as pd\n",
    "import numpy as np\n",
    "import math\n",
    "from collections import Counter\n",
    "from nltk.tokenize import word_tokenize\n",
    "import re"
   ]
  },
  {
   "cell_type": "code",
   "execution_count": 2,
   "metadata": {
    "collapsed": false
   },
   "outputs": [],
   "source": [
    "train = pd.read_table(\"../train.tsv\")\n",
    "texttrain = train.as_matrix()"
   ]
  },
  {
   "cell_type": "code",
   "execution_count": 53,
   "metadata": {
    "collapsed": false
   },
   "outputs": [],
   "source": [
    "y_train = np.log1p(train['price'])\n",
    "train['category_name'] = train['category_name'].fillna('NotAvailable').astype(str)\n",
    "train['brand_name'] = train['brand_name'].fillna('missing').astype(str)\n",
    "train['shipping'] = train['shipping'].astype(str)\n",
    "train['item_condition_id'] = train['item_condition_id'].astype(str)\n",
    "train['item_description'] = train['item_description'].fillna('None')"
   ]
  },
  {
   "cell_type": "code",
   "execution_count": 74,
   "metadata": {
    "collapsed": false
   },
   "outputs": [
    {
     "data": {
      "text/plain": [
       "train_id               int64\n",
       "name                  object\n",
       "item_condition_id     object\n",
       "category_name         object\n",
       "brand_name            object\n",
       "price                float64\n",
       "shipping              object\n",
       "item_description      object\n",
       "dtype: object"
      ]
     },
     "execution_count": 74,
     "metadata": {},
     "output_type": "execute_result"
    }
   ],
   "source": [
    "train.head()\n",
    "train.dtypes"
   ]
  },
  {
   "cell_type": "code",
   "execution_count": 66,
   "metadata": {
    "collapsed": false
   },
   "outputs": [
    {
     "data": {
      "text/plain": [
       "0                                         No description yet\n",
       "1          This keyboard is in great condition and works ...\n",
       "2          Adorable top with a hint of lace and a key hol...\n",
       "3          New with tags. Leather horses. Retail for [rm]...\n",
       "4                  Complete with certificate of authenticity\n",
       "5          Banana republic bottoms, Candies skirt with ma...\n",
       "6          Size small but straps slightly shortened to fi...\n",
       "7          You get three pairs of Sophie cheer shorts siz...\n",
       "8           Girls Size small Plus green. Three shorts total.\n",
       "9          I realized his pants are on backwards after th...\n",
       "10              0.25 oz Full size is 1oz for [rm] in Sephora\n",
       "11         (5) new vs pink body mists (2.5 oz each) Fresh...\n",
       "12                                       Xl, great condition\n",
       "13                                        No description yet\n",
       "14         Authentic. Suede fringe boots. Great condition...\n",
       "15         Brand new. Deluxe travel size products. Contai...\n",
       "16         2 glitter eyeshadows; one in Brass and one in ...\n",
       "17         Brand new in box Size: Medium Color: Coral Ret...\n",
       "18         This AUTHENTIC pallete by Too Faced is brand n...\n",
       "19         Fancy, dressy or casual! Dress it up or down 1...\n",
       "20                    Size 1. Worn once. Excellent condition\n",
       "21         NWT Victoria's Secret ULTIMATE SPORT BRA -MAXI...\n",
       "22         Reasonable offers welcomed. But if you ask \"lo...\n",
       "23         Brand new never used All colors are available ...\n",
       "24         lanascloset ~~~ description: never worn! ✨ i d...\n",
       "25         They are 100 percent authentic. They are beate...\n",
       "26         Brand new Otterbox Defender iPhone 6 Plus/6s Plus\n",
       "27                        Worn one time. Excellent condition\n",
       "28         Beautiful Excellent condition Zips and ties in...\n",
       "29         29w. X 33l. Social stretch hollister jeans ***...\n",
       "                                 ...                        \n",
       "1482505    great condition! a few signs of wear on the in...\n",
       "1482506    Brand new sealed in box kitchen aid kitchenaid...\n",
       "1482507            Just the game and the case. Lightly used.\n",
       "1482508                                        New with tags\n",
       "1482509    Fit bit charge 2, comes with box, charger pack...\n",
       "1482510    Popsockets for all phone & Tablet Add 1 clip m...\n",
       "1482511    Brand: Bebe Beauty lip gloss, in color Icon. B...\n",
       "1482512                                 NWOT - Blue - size 8\n",
       "1482513    Yu-Gi-Oh Ultra Rare Single Card in NM conditio...\n",
       "1482514    Leather Navy and creme polka dot With brown ac...\n",
       "1482515                                          Size medium\n",
       "1482516    Bath & Body Works Scented Candle Vanilla Bloss...\n",
       "1482517    To see all of the bras I have listed key in JB...\n",
       "1482518            3 appear to be VTG. The pink one is Coro.\n",
       "1482519    Brand new with tags, Victoria Secret logo thon...\n",
       "1482520    Bundle of Baby Gap's First Favorites 3-6 month...\n",
       "1482521                               Brand new, never used.\n",
       "1482522    Perfect Design for LG Tribute 5 / LG K7, NOT f...\n",
       "1482523    Still more than half left in this! Color is or...\n",
       "1482524    ▪️NWOT ▪️Perfect Condition ▪️Barely been worn ...\n",
       "1482525    Removable straps to make strapless Size: 34 B ...\n",
       "1482526    Great Harry Potter Shirt! \"Hogwarts, School of...\n",
       "1482527    Brand new black and white ribbed mock neck bod...\n",
       "1482528    Purple and Paisley Victoria's Secret Tankini S...\n",
       "1482529    [rm] for the set both in perfect condition no ...\n",
       "1482530    Lace, says size small but fits medium perfectl...\n",
       "1482531     Little mermaid handmade dress never worn size 2t\n",
       "1482532            Used once or twice, still in great shape.\n",
       "1482533    There is 2 of each one that you see! So 2 red ...\n",
       "1482534    New with tag, red with sparkle. Firm price, no...\n",
       "Name: item_description, Length: 1482535, dtype: object"
      ]
     },
     "execution_count": 66,
     "metadata": {},
     "output_type": "execute_result"
    }
   ],
   "source": [
    "# Description 82489/1482535\n",
    "# Count = 632681/1482535\n",
    "brand = Counter(train['item_description'])\n",
    "train['item_description']\n",
    "# brand.most_common()\n",
    "\n"
   ]
  },
  {
   "cell_type": "code",
   "execution_count": 68,
   "metadata": {
    "collapsed": false
   },
   "outputs": [
    {
     "name": "stdout",
     "output_type": "stream",
     "text": [
      "3\n",
      "36\n",
      "29\n",
      "32\n",
      "5\n",
      "16\n",
      "13\n",
      "52\n",
      "8\n",
      "55\n",
      "11\n",
      "22\n",
      "3\n",
      "3\n",
      "37\n",
      "25\n",
      "10\n",
      "71\n",
      "52\n",
      "31\n",
      "6\n"
     ]
    }
   ],
   "source": [
    "count = 0\n",
    "for item in train['item_description']:  \n",
    "    \n",
    "    print(len(re.findall(r'\\w+', item)))\n",
    "    \n",
    "    if count == 20:\n",
    "        break\n",
    "    count = count+1"
   ]
  },
  {
   "cell_type": "code",
   "execution_count": null,
   "metadata": {
    "collapsed": true
   },
   "outputs": [],
   "source": []
  }
 ],
 "metadata": {
  "kernelspec": {
   "display_name": "Python 3",
   "language": "python",
   "name": "python3"
  },
  "language_info": {
   "codemirror_mode": {
    "name": "ipython",
    "version": 3
   },
   "file_extension": ".py",
   "mimetype": "text/x-python",
   "name": "python",
   "nbconvert_exporter": "python",
   "pygments_lexer": "ipython3",
   "version": "3.6.0"
  }
 },
 "nbformat": 4,
 "nbformat_minor": 2
}
