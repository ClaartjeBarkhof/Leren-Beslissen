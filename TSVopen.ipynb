{
 "cells": [
  {
   "cell_type": "code",
   "execution_count": 58,
   "metadata": {
    "collapsed": true
   },
   "outputs": [],
   "source": [
    "import pandas as pd\n",
    "import numpy as np\n",
    "import math\n",
    "from collections import Counter\n",
    "from nltk.tokenize import word_tokenize\n",
    "import re"
   ]
  },
  {
   "cell_type": "code",
   "execution_count": 2,
   "metadata": {
    "collapsed": false
   },
   "outputs": [],
   "source": [
    "train = pd.read_table(\"../train.tsv\")\n",
    "texttrain = train.as_matrix()"
   ]
  },
  {
   "cell_type": "code",
   "execution_count": 53,
   "metadata": {
    "collapsed": false
   },
   "outputs": [],
   "source": [
    "y_train = np.log1p(train['price'])\n",
    "train['category_name'] = train['category_name'].fillna('NotAvailable').astype(str)\n",
    "train['brand_name'] = train['brand_name'].fillna('missing').astype(str)\n",
    "train['shipping'] = train['shipping'].astype(str)\n",
    "train['item_condition_id'] = train['item_condition_id'].astype(str)\n",
    "train['item_description'] = train['item_description'].fillna('None')"
   ]
  },
  {
   "cell_type": "code",
   "execution_count": 74,
   "metadata": {
    "collapsed": false
   },
   "outputs": [
    {
     "data": {
      "text/plain": [
       "train_id               int64\n",
       "name                  object\n",
       "item_condition_id     object\n",
       "category_name         object\n",
       "brand_name            object\n",
       "price                float64\n",
       "shipping              object\n",
       "item_description      object\n",
       "dtype: object"
      ]
     },
     "execution_count": 74,
     "metadata": {},
     "output_type": "execute_result"
    }
   ],
   "source": [
    "train.head()\n",
    "train.dtypes"
   ]
  },
  {
   "cell_type": "code",
   "execution_count": 87,
   "metadata": {
    "collapsed": false
   },
   "outputs": [
    {
     "name": "stdout",
     "output_type": "stream",
     "text": [
      "                                          item_description  price\n",
      "0                                       No description yet   10.0\n",
      "1        This keyboard is in great condition and works ...   52.0\n",
      "2        Adorable top with a hint of lace and a key hol...   10.0\n",
      "3        New with tags. Leather horses. Retail for [rm]...   35.0\n",
      "4                Complete with certificate of authenticity   44.0\n",
      "5        Banana republic bottoms, Candies skirt with ma...   59.0\n",
      "6        Size small but straps slightly shortened to fi...   64.0\n",
      "7        You get three pairs of Sophie cheer shorts siz...    6.0\n",
      "8         Girls Size small Plus green. Three shorts total.   19.0\n",
      "9        I realized his pants are on backwards after th...    8.0\n",
      "10            0.25 oz Full size is 1oz for [rm] in Sephora    8.0\n",
      "11       (5) new vs pink body mists (2.5 oz each) Fresh...   34.0\n",
      "12                                     Xl, great condition   16.0\n",
      "13                                      No description yet    4.0\n",
      "14       Authentic. Suede fringe boots. Great condition...   43.0\n",
      "15       Brand new. Deluxe travel size products. Contai...   11.0\n",
      "16       2 glitter eyeshadows; one in Brass and one in ...    6.0\n",
      "17       Brand new in box Size: Medium Color: Coral Ret...   29.0\n",
      "18       This AUTHENTIC pallete by Too Faced is brand n...   25.0\n",
      "19       Fancy, dressy or casual! Dress it up or down 1...   27.0\n",
      "20                  Size 1. Worn once. Excellent condition   13.0\n",
      "21       NWT Victoria's Secret ULTIMATE SPORT BRA -MAXI...   20.0\n",
      "22       Reasonable offers welcomed. But if you ask \"lo...  386.0\n",
      "23       Brand new never used All colors are available ...    8.0\n",
      "24       lanascloset ~~~ description: never worn! ✨ i d...   10.0\n",
      "25       They are 100 percent authentic. They are beate...   66.0\n",
      "26       Brand new Otterbox Defender iPhone 6 Plus/6s Plus   13.0\n",
      "27                      Worn one time. Excellent condition   24.0\n",
      "28       Beautiful Excellent condition Zips and ties in...    5.0\n",
      "29       29w. X 33l. Social stretch hollister jeans ***...   16.0\n",
      "...                                                    ...    ...\n",
      "1482505  great condition! a few signs of wear on the in...   34.0\n",
      "1482506  Brand new sealed in box kitchen aid kitchenaid...  165.0\n",
      "1482507          Just the game and the case. Lightly used.   24.0\n",
      "1482508                                      New with tags   21.0\n",
      "1482509  Fit bit charge 2, comes with box, charger pack...   95.0\n",
      "1482510  Popsockets for all phone & Tablet Add 1 clip m...    9.0\n",
      "1482511  Brand: Bebe Beauty lip gloss, in color Icon. B...    5.0\n",
      "1482512                               NWOT - Blue - size 8   34.0\n",
      "1482513  Yu-Gi-Oh Ultra Rare Single Card in NM conditio...    5.0\n",
      "1482514  Leather Navy and creme polka dot With brown ac...   23.0\n",
      "1482515                                        Size medium   20.0\n",
      "1482516  Bath & Body Works Scented Candle Vanilla Bloss...   15.0\n",
      "1482517  To see all of the bras I have listed key in JB...   11.0\n",
      "1482518          3 appear to be VTG. The pink one is Coro.   10.0\n",
      "1482519  Brand new with tags, Victoria Secret logo thon...    9.0\n",
      "1482520  Bundle of Baby Gap's First Favorites 3-6 month...   18.0\n",
      "1482521                             Brand new, never used.    9.0\n",
      "1482522  Perfect Design for LG Tribute 5 / LG K7, NOT f...    8.0\n",
      "1482523  Still more than half left in this! Color is or...    8.0\n",
      "1482524  ▪️NWOT ▪️Perfect Condition ▪️Barely been worn ...   26.0\n",
      "1482525  Removable straps to make strapless Size: 34 B ...    7.0\n",
      "1482526  Great Harry Potter Shirt! \"Hogwarts, School of...   12.0\n",
      "1482527  Brand new black and white ribbed mock neck bod...   10.0\n",
      "1482528  Purple and Paisley Victoria's Secret Tankini S...   18.0\n",
      "1482529  [rm] for the set both in perfect condition no ...   34.0\n",
      "1482530  Lace, says size small but fits medium perfectl...   20.0\n",
      "1482531   Little mermaid handmade dress never worn size 2t   14.0\n",
      "1482532          Used once or twice, still in great shape.   12.0\n",
      "1482533  There is 2 of each one that you see! So 2 red ...   45.0\n",
      "1482534  New with tag, red with sparkle. Firm price, no...   22.0\n",
      "\n",
      "[1482535 rows x 2 columns]\n"
     ]
    }
   ],
   "source": [
    "# Description 82489/1482535\n",
    "# Count = 632681/1482535\n",
    "result = pd.concat([train['item_description'],train['price']], axis=1, join_axes=[train['item_description'].index])\n",
    "print(result)"
   ]
  },
  {
   "cell_type": "code",
   "execution_count": 75,
   "metadata": {
    "collapsed": false
   },
   "outputs": [
    {
     "name": "stdout",
     "output_type": "stream",
     "text": [
      "3\n",
      "36\n",
      "29\n",
      "32\n",
      "5\n",
      "16\n",
      "13\n",
      "52\n",
      "8\n",
      "55\n",
      "11\n",
      "22\n",
      "3\n",
      "3\n",
      "37\n",
      "25\n",
      "10\n",
      "71\n",
      "52\n",
      "31\n",
      "6\n",
      "11\n",
      "57\n",
      "11\n",
      "49\n",
      "21\n",
      "9\n",
      "5\n",
      "14\n",
      "27\n",
      "27\n"
     ]
    }
   ],
   "source": [
    "count = 0\n",
    "for item in train['item_description']:  \n",
    "    \n",
    "    print(len(re.findall(r'\\w+', item)))\n",
    "    \n",
    "    if count == 30:\n",
    "        break\n",
    "    count = count+1"
   ]
  },
  {
   "cell_type": "code",
   "execution_count": null,
   "metadata": {
    "collapsed": true
   },
   "outputs": [],
   "source": []
  }
 ],
 "metadata": {
  "kernelspec": {
   "display_name": "Python 3",
   "language": "python",
   "name": "python3"
  },
  "language_info": {
   "codemirror_mode": {
    "name": "ipython",
    "version": 3
   },
   "file_extension": ".py",
   "mimetype": "text/x-python",
   "name": "python",
   "nbconvert_exporter": "python",
   "pygments_lexer": "ipython3",
   "version": "3.6.0"
  }
 },
 "nbformat": 4,
 "nbformat_minor": 2
}
